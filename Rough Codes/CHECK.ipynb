{
 "cells": [
  {
   "cell_type": "code",
   "execution_count": 1,
   "metadata": {},
   "outputs": [],
   "source": [
    "import requests\n",
    "from bs4 import BeautifulSoup\n",
    "import os\n"
   ]
  },
  {
   "cell_type": "code",
   "execution_count": null,
   "metadata": {},
   "outputs": [],
   "source": [
    "LOGIN_URL = \"https://yumacountyaz-recweb.tylerhost.net/recorder/web/login.jsp\"\n",
    "SEARCH_URL = \"https://yumacountyaz-recweb.tylerhost.net/recorder/eagleweb/docSearch.jsp\"\n",
    "START_DATE = \"01/01/2024\"\n",
    "END_DATE = \"12/31/2024\"\n",
    "DOWNLOAD_DIR = \"downloads\""
   ]
  }
 ],
 "metadata": {
  "kernelspec": {
   "display_name": "Python 3",
   "language": "python",
   "name": "python3"
  },
  "language_info": {
   "codemirror_mode": {
    "name": "ipython",
    "version": 3
   },
   "file_extension": ".py",
   "mimetype": "text/x-python",
   "name": "python",
   "nbconvert_exporter": "python",
   "pygments_lexer": "ipython3",
   "version": "3.12.9"
  }
 },
 "nbformat": 4,
 "nbformat_minor": 2
}
